{
 "cells": [
  {
   "cell_type": "code",
   "execution_count": 1,
   "metadata": {},
   "outputs": [],
   "source": [
    "import pandas as pd\n",
    "import datetime\n",
    "from datetime import date\n",
    "import numpy as np\n",
    "import codecs"
   ]
  },
  {
   "cell_type": "code",
   "execution_count": 2,
   "metadata": {},
   "outputs": [],
   "source": [
    "link = '/Users/oat/Desktop/งาน/tick/new data/2021.11.09.csv'"
   ]
  },
  {
   "cell_type": "code",
   "execution_count": 3,
   "metadata": {},
   "outputs": [],
   "source": [
    "f = codecs.open(link, \"r\", \"utf-16\")"
   ]
  },
  {
   "cell_type": "code",
   "execution_count": 4,
   "metadata": {},
   "outputs": [],
   "source": [
    "data = pd.read_csv(f ,sep = '\\t',skip_blank_lines=True)"
   ]
  },
  {
   "cell_type": "code",
   "execution_count": 5,
   "metadata": {},
   "outputs": [],
   "source": [
    "list_old_col = data.columns.to_list()\n",
    "list_col = range(4)\n",
    "status = 'close'\n",
    "data.rename(columns={list_old_col[i]:list_col[i] for i in range(len(list_col))},inplace=True)\n"
   ]
  },
  {
   "cell_type": "code",
   "execution_count": 6,
   "metadata": {},
   "outputs": [],
   "source": [
    "def s(x,tp,sl):\n",
    "    if x < 2:\n",
    "        #print(0.01)\n",
    "        TP = x+(tp*0.01)\n",
    "        SL = x-(sl*0.01)\n",
    "\n",
    "\n",
    "    elif 2<= x < 5:\n",
    "        #print(0.02)\n",
    "        TP = x+(tp*0.02)\n",
    "        SL = x-(sl*0.02)\n",
    "\n",
    "\n",
    "    elif 5<= x < 10:\n",
    "        #print(0.05)\n",
    "        TP = x+(tp*0.05)\n",
    "        SL = x-(sl*0.05)\n",
    "\n",
    "    elif 10<= x < 25:\n",
    "        #print(0.1)\n",
    "        TP = x+(tp*0.1)\n",
    "        SL = x-(sl*0.1)\n",
    "\n",
    "\n",
    "    elif 25<= x < 100:\n",
    "        #print(0.25)\n",
    "        TP = x+(tp*0.25)\n",
    "        SL = x-(sl*0.25)\n",
    "\n",
    "\n",
    "    elif 100<= x < 200:\n",
    "        #print(0.5)\n",
    "        TP = x+(tp*0.5)\n",
    "        SL = x-(sl*0.5)\n",
    "\n",
    "\n",
    "    elif 200<= x < 400:\n",
    "        #print(1)\n",
    "        TP = x+(tp)\n",
    "        SL = x-(sl)\n",
    "\n",
    "\n",
    "    elif x >= 400:\n",
    "        #print(2)\n",
    "        TP = x+(tp*2)\n",
    "        SL = x-(sl*2)\n",
    "\n",
    "        \n",
    "    #x.loc[i,'TP'] = TP\n",
    "    #x.loc[i,'SL'] = SL\n",
    "        \n",
    "    return TP,SL"
   ]
  },
  {
   "cell_type": "code",
   "execution_count": 7,
   "metadata": {},
   "outputs": [],
   "source": [
    "def Accum(df,Accum,tp,sl):\n",
    "    ticket = ''\n",
    "    type_sell = ''\n",
    "    df['Value'] = df[1]*df[2]\n",
    "    data = df.iloc[1:,:].copy()\n",
    "\n",
    "    for j in range(len(data)):\n",
    "        if data.iloc[j,3] == 'SELL':\n",
    "            data.iloc[j,3] = np.nan\n",
    "    \n",
    "    data = data.dropna().reset_index().drop(columns='index')\n",
    "    time_buy = 0\n",
    "\n",
    "    \n",
    "    for i in range(len(data)):\n",
    "        \n",
    "        a = datetime.datetime.strptime(data.iloc[i-1,0], '%Y.%m.%d %H:%M.%f ').strftime('%H:%M')\n",
    "        b = datetime.datetime.strptime(data.iloc[i,0], '%Y.%m.%d %H:%M.%f ').strftime('%H:%M')\n",
    "        c = datetime.datetime.strptime(data.iloc[i,0], '%Y.%m.%d %H:%M.%f ').strftime('%M')\n",
    "        close = data.iloc[-1,1]\n",
    "        time_close = data.iloc[-1,0]\n",
    "       \n",
    "        if a == b:\n",
    "            data.loc[i,'Accum'] = data.loc[i-1,'Accum']+data.iloc[i,4]\n",
    "        else:\n",
    "            data.loc[i,'Accum'] = data.iloc[i,4]\n",
    "  \n",
    "        if data.loc[i,'Accum'] >= Accum and b != ticket:\n",
    "            data.loc[i,f'BUY_{Accum}'] = 'BUY'\n",
    "            value = data.iloc[i,1]\n",
    "            ticket = b\n",
    "            time_buy += 1\n",
    "            TP,SL = s(data.iloc[i,1],tp,sl)[0],s(data.iloc[i,1],tp,sl)[1]\n",
    "            data.loc[i,f'TP_{Accum}'] = TP\n",
    "            data.loc[i,f'SL_{Accum}'] = SL\n",
    "            \n",
    "            Tick = 1\n",
    "            j = i\n",
    "            while Tick == 1 and j<len(data):\n",
    "                \n",
    "                if data.iloc[j,1] >= TP:\n",
    "                    Timeticket = data.iloc[j,0]\n",
    "                    sellat = TP\n",
    "                    type_sell = 'TP'\n",
    "                    Tick = 0\n",
    "                elif data.iloc[j,1] <= SL:\n",
    "                    Timeticket = data.iloc[j,0]\n",
    "                    sellat = SL\n",
    "                    type_sell = 'SL'\n",
    "                    Tick = 0\n",
    "                elif data.iloc[j,0] == time_close:\n",
    "                    sellat = close\n",
    "                    Timeticket = time_close\n",
    "                    type_sell = 'Close'\n",
    "                    Tick = 0\n",
    "                else:\n",
    "                    j += 1\n",
    "                    \n",
    "                    \n",
    "            if type_sell == '':\n",
    "                pass\n",
    "            else:\n",
    "                data.loc[i,f'SELL_Time_{Accum}'] = Timeticket\n",
    "                data.loc[i,f'SELL_Price_{Accum}'] =sellat\n",
    "                data.loc[i,f'Type_sell_{Accum}'] = type_sell\n",
    "                data.loc[i,f'Result_{Accum}'] = sellat - data.iloc[i,1]\n",
    "            \n",
    "    W = data.copy()\n",
    "    for i in range(len(W)):\n",
    "        if data.loc[i,f'Result_{Accum}'] > 0:\n",
    "                W.loc[i,'WIN_value'] = data.loc[i,f'Result_{Accum}']\n",
    "        elif data.loc[i,f'Result_{Accum}'] < 0:\n",
    "            W.loc[i,'LOSS_value'] = data.loc[i,f'Result_{Accum}']\n",
    "            \n",
    "    dfo = data.copy()\n",
    "    dfo.dropna(inplace = True)\n",
    "    dfo = dfo.reset_index().drop(columns = 'index')\n",
    "    \n",
    "    count = 0\n",
    "    for i in range(1,len(dfo)):\n",
    "        if dfo.loc[i,f'SELL_Time_{Accum}'] == dfo.loc[i-1,f'SELL_Time_{Accum}']:\n",
    "            count += 1\n",
    "            dfo.loc[i,'count'] = count\n",
    "        else:\n",
    "            count = 0\n",
    "            pass\n",
    "    PT = dfo['count'].max()\n",
    "    win = W['WIN_value'].sum()\n",
    "    loss = W['LOSS_value'].sum()\n",
    "    result = pd.DataFrame(index = range(1),columns = ['Date','ไม้มากสุด','win_value','loss_value','P/L'])\n",
    "    result.iloc[0,1] = PT\n",
    "    result.iloc[0,2] = win\n",
    "    result.iloc[0,3] = abs(loss)\n",
    "    result.iloc[0,4] = win/abs(loss)\n",
    "    return result"
   ]
  },
  {
   "cell_type": "code",
   "execution_count": null,
   "metadata": {},
   "outputs": [],
   "source": [
    "def T0_excel(price,TP,SL):\n",
    "    Finish_it = pd.ExcelWriter(f'/Users/oat/Desktop/งาน/tick/result/Conclude_{price}_{SL}.xlsx')\n",
    "    x = Accum(df1,price,TP,SL)\n",
    "    y = Accum(df2,price,TP,SL)\n",
    "    z = Accum(df3,price,TP,SL)\n",
    "    a = Accum(df4,price,TP,SL)\n",
    "    b = Accum(df5,price,TP,SL)\n",
    "    c = Accum(df6,price,TP,SL)\n",
    "    x.to_excel(Finish_it,sheet_name='16.11')\n",
    "    y.to_excel(Finish_it,sheet_name='9.11')\n",
    "    z.to_excel(Finish_it,sheet_name='10.11')\n",
    "    a.to_excel(Finish_it,sheet_name='11.11')\n",
    "    b.to_excel(Finish_it,sheet_name='12.11')\n",
    "    c.to_excel(Finish_it,sheet_name='15.11')\n",
    "    Finish_it.close()\n",
    "    return 'GG'"
   ]
  },
  {
   "cell_type": "code",
   "execution_count": null,
   "metadata": {},
   "outputs": [],
   "source": [
    "Finish_it = pd.ExcelWriter('/Users/oat/Desktop/งาน/tick/result/Conclude_10M_5.xlsx')"
   ]
  },
  {
   "cell_type": "code",
   "execution_count": null,
   "metadata": {},
   "outputs": [],
   "source": [
    "x = Accum(df1,1000000,3,4)"
   ]
  },
  {
   "cell_type": "code",
   "execution_count": null,
   "metadata": {},
   "outputs": [],
   "source": [
    "y = Accum(df2,1000000,3,4)"
   ]
  },
  {
   "cell_type": "code",
   "execution_count": null,
   "metadata": {},
   "outputs": [],
   "source": [
    "z = Accum(df3,1000000,3,4)"
   ]
  },
  {
   "cell_type": "code",
   "execution_count": null,
   "metadata": {},
   "outputs": [],
   "source": [
    "a = Accum(df4,1000000,3,4)"
   ]
  },
  {
   "cell_type": "code",
   "execution_count": null,
   "metadata": {},
   "outputs": [],
   "source": [
    "b = Accum(df5,1000000,3,4)"
   ]
  },
  {
   "cell_type": "code",
   "execution_count": null,
   "metadata": {},
   "outputs": [],
   "source": [
    "c = Accum(df6,1000000,3,4)"
   ]
  },
  {
   "cell_type": "code",
   "execution_count": null,
   "metadata": {},
   "outputs": [],
   "source": [
    "df1 = data['Sheet1'] #16\n",
    "df2 = data['9.11']\n",
    "df3 = data['10.11']\n",
    "df4 = data['11.11']\n",
    "df5 = data['12.11']\n",
    "df6 = data['15.11']"
   ]
  },
  {
   "cell_type": "code",
   "execution_count": null,
   "metadata": {},
   "outputs": [],
   "source": [
    "x.to_excel(Finish_it,sheet_name='16.11')\n",
    "y.to_excel(Finish_it,sheet_name='9.11')\n",
    "z.to_excel(Finish_it,sheet_name='10.11')\n",
    "a.to_excel(Finish_it,sheet_name='11.11')\n",
    "b.to_excel(Finish_it,sheet_name='12.11')\n",
    "c.to_excel(Finish_it,sheet_name='15.11')"
   ]
  },
  {
   "cell_type": "code",
   "execution_count": null,
   "metadata": {},
   "outputs": [],
   "source": [
    "Finish_it.close()"
   ]
  },
  {
   "cell_type": "code",
   "execution_count": null,
   "metadata": {},
   "outputs": [],
   "source": [
    "a = datetime.datetime.strptime(x.iloc[7,0], '%Y.%m.%d %H:%M.%f ').strftime('%H:%M')\n",
    "b = datetime.datetime.strptime(x.iloc[8,0], '%Y.%m.%d %H:%M.%f ').strftime('%M')"
   ]
  },
  {
   "cell_type": "code",
   "execution_count": null,
   "metadata": {},
   "outputs": [],
   "source": [
    "y.to_excel('/Users/oat/Desktop/งาน/tick/result/TesT.xlsx')"
   ]
  }
 ],
 "metadata": {
  "kernelspec": {
   "display_name": "Python 3 (ipykernel)",
   "language": "python",
   "name": "python3"
  },
  "language_info": {
   "codemirror_mode": {
    "name": "ipython",
    "version": 3
   },
   "file_extension": ".py",
   "mimetype": "text/x-python",
   "name": "python",
   "nbconvert_exporter": "python",
   "pygments_lexer": "ipython3",
   "version": "3.9.12"
  }
 },
 "nbformat": 4,
 "nbformat_minor": 4
}

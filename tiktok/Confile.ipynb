{
 "cells": [
  {
   "cell_type": "code",
   "execution_count": 1,
   "metadata": {},
   "outputs": [],
   "source": [
    "import pandas as pd\n",
    "import datetime\n",
    "from datetime import date\n",
    "import numpy as np\n",
    "import codecs"
   ]
  },
  {
   "cell_type": "code",
   "execution_count": 60,
   "metadata": {},
   "outputs": [],
   "source": [
    "f = codecs.open(r'/Users/oat/Desktop/งาน/tick/2021.11.09.csv', \"r\", \"utf-16\")"
   ]
  },
  {
   "cell_type": "code",
   "execution_count": 61,
   "metadata": {},
   "outputs": [],
   "source": [
    "data = pd.read_csv(f ,sep = '\\t',skip_blank_lines=True)"
   ]
  },
  {
   "cell_type": "code",
   "execution_count": 28,
   "metadata": {},
   "outputs": [],
   "source": [
    "list_old_col = data.columns.to_list()"
   ]
  },
  {
   "cell_type": "code",
   "execution_count": 29,
   "metadata": {},
   "outputs": [],
   "source": [
    "list_col = range(4)"
   ]
  },
  {
   "cell_type": "code",
   "execution_count": 30,
   "metadata": {},
   "outputs": [],
   "source": [
    "data.rename(columns={list_old_col[i]:list_col[i] for i in range(len(list_col))},inplace=True)"
   ]
  },
  {
   "cell_type": "code",
   "execution_count": 39,
   "metadata": {},
   "outputs": [
    {
     "data": {
      "text/html": [
       "<div>\n",
       "<style scoped>\n",
       "    .dataframe tbody tr th:only-of-type {\n",
       "        vertical-align: middle;\n",
       "    }\n",
       "\n",
       "    .dataframe tbody tr th {\n",
       "        vertical-align: top;\n",
       "    }\n",
       "\n",
       "    .dataframe thead th {\n",
       "        text-align: right;\n",
       "    }\n",
       "</style>\n",
       "<table border=\"1\" class=\"dataframe\">\n",
       "  <thead>\n",
       "    <tr style=\"text-align: right;\">\n",
       "      <th></th>\n",
       "      <th>0</th>\n",
       "      <th>1</th>\n",
       "      <th>2</th>\n",
       "      <th>3</th>\n",
       "    </tr>\n",
       "  </thead>\n",
       "  <tbody>\n",
       "    <tr>\n",
       "      <th>0</th>\n",
       "      <td>2021.11.09 09:58.914</td>\n",
       "      <td>22.4</td>\n",
       "      <td>2800</td>\n",
       "      <td>SELL</td>\n",
       "    </tr>\n",
       "    <tr>\n",
       "      <th>1</th>\n",
       "      <td>2021.11.09 09:58.914</td>\n",
       "      <td>22.4</td>\n",
       "      <td>100</td>\n",
       "      <td>SELL</td>\n",
       "    </tr>\n",
       "    <tr>\n",
       "      <th>2</th>\n",
       "      <td>2021.11.09 09:58.914</td>\n",
       "      <td>22.4</td>\n",
       "      <td>500</td>\n",
       "      <td>SELL</td>\n",
       "    </tr>\n",
       "    <tr>\n",
       "      <th>3</th>\n",
       "      <td>2021.11.09 09:58.914</td>\n",
       "      <td>22.4</td>\n",
       "      <td>1600</td>\n",
       "      <td>SELL</td>\n",
       "    </tr>\n",
       "    <tr>\n",
       "      <th>4</th>\n",
       "      <td>2021.11.09 10:00.129</td>\n",
       "      <td>22.4</td>\n",
       "      <td>900</td>\n",
       "      <td>SELL</td>\n",
       "    </tr>\n",
       "    <tr>\n",
       "      <th>...</th>\n",
       "      <td>...</td>\n",
       "      <td>...</td>\n",
       "      <td>...</td>\n",
       "      <td>...</td>\n",
       "    </tr>\n",
       "    <tr>\n",
       "      <th>688</th>\n",
       "      <td>2021.11.09 16:26.387</td>\n",
       "      <td>22.8</td>\n",
       "      <td>500</td>\n",
       "      <td>BUY</td>\n",
       "    </tr>\n",
       "    <tr>\n",
       "      <th>689</th>\n",
       "      <td>2021.11.09 16:27.980</td>\n",
       "      <td>22.7</td>\n",
       "      <td>1000</td>\n",
       "      <td>SELL</td>\n",
       "    </tr>\n",
       "    <tr>\n",
       "      <th>690</th>\n",
       "      <td>2021.11.09 16:29.848</td>\n",
       "      <td>22.8</td>\n",
       "      <td>400</td>\n",
       "      <td>BUY</td>\n",
       "    </tr>\n",
       "    <tr>\n",
       "      <th>691</th>\n",
       "      <td>2021.11.09 16:29.848</td>\n",
       "      <td>22.8</td>\n",
       "      <td>100</td>\n",
       "      <td>BUY</td>\n",
       "    </tr>\n",
       "    <tr>\n",
       "      <th>692</th>\n",
       "      <td>2021.11.09 16:35.475</td>\n",
       "      <td>22.9</td>\n",
       "      <td>18100</td>\n",
       "      <td>BUY</td>\n",
       "    </tr>\n",
       "  </tbody>\n",
       "</table>\n",
       "<p>693 rows × 4 columns</p>\n",
       "</div>"
      ],
      "text/plain": [
       "                         0     1      2     3\n",
       "0    2021.11.09 09:58.914   22.4   2800  SELL\n",
       "1    2021.11.09 09:58.914   22.4    100  SELL\n",
       "2    2021.11.09 09:58.914   22.4    500  SELL\n",
       "3    2021.11.09 09:58.914   22.4   1600  SELL\n",
       "4    2021.11.09 10:00.129   22.4    900  SELL\n",
       "..                     ...   ...    ...   ...\n",
       "688  2021.11.09 16:26.387   22.8    500   BUY\n",
       "689  2021.11.09 16:27.980   22.7   1000  SELL\n",
       "690  2021.11.09 16:29.848   22.8    400   BUY\n",
       "691  2021.11.09 16:29.848   22.8    100   BUY\n",
       "692  2021.11.09 16:35.475   22.9  18100   BUY\n",
       "\n",
       "[693 rows x 4 columns]"
      ]
     },
     "execution_count": 39,
     "metadata": {},
     "output_type": "execute_result"
    }
   ],
   "source": [
    "data"
   ]
  },
  {
   "cell_type": "code",
   "execution_count": 50,
   "metadata": {},
   "outputs": [
    {
     "data": {
      "text/plain": [
       "'2021.11.09 16:35.475 '"
      ]
     },
     "execution_count": 50,
     "metadata": {},
     "output_type": "execute_result"
    }
   ],
   "source": [
    "data.iloc[692,0]"
   ]
  },
  {
   "cell_type": "code",
   "execution_count": 51,
   "metadata": {},
   "outputs": [
    {
     "data": {
      "text/plain": [
       "'16:35'"
      ]
     },
     "execution_count": 51,
     "metadata": {},
     "output_type": "execute_result"
    }
   ],
   "source": [
    "datetime.datetime.strptime(data.iloc[692,0], '%Y.%m.%d %H:%M.%f ').strftime('%H:%M')"
   ]
  },
  {
   "cell_type": "code",
   "execution_count": 75,
   "metadata": {},
   "outputs": [],
   "source": [
    "def getData():\n",
    "    f = codecs.open(r'/Users/oat/Desktop/งาน/tick/2021.11.09.csv', \"r\", \"utf-16\")#ที่อยู่ไฟล์\n",
    "    data = pd.read_csv(f ,sep = '\\t',skip_blank_lines=True)\n",
    "    list_old_col = data.columns.to_list()\n",
    "    list_col = range(4)\n",
    "    status = 'close'\n",
    "    data.rename(columns={list_old_col[i]:list_col[i] for i in range(len(list_col))},inplace=True)\n",
    "#     for i in range(len(data)):\n",
    "#         if datetime.datetime.strptime(data.iloc[i,0], '%Y.%m.%d %H:%M.%f ').strftime('%H:%M') == '16:30' or status == 'on':\n",
    "#             data.iloc[i,0] = np.nan\n",
    "#             status = 'on'\n",
    "#     data.dropna(inplace = True)\n",
    "    return data"
   ]
  },
  {
   "cell_type": "code",
   "execution_count": null,
   "metadata": {},
   "outputs": [],
   "source": [
    "def Condata(symbol):\n",
    "    list_date = os.listdir(r'/Users/oat/Desktop/งาน/tick/2021.11.09.csv')#ที่อยู่forderที่เก็บไฟล์\n",
    "    list_date.sort()\n",
    "    check = False\n",
    "    i = 0\n",
    "    while check == False:\n",
    "        if list_date[i] == '2021.10.01.csv':\n",
    "            R = list_date[i:].copy()\n",
    "            check = True\n",
    "        else:\n",
    "            i += 1\n",
    "            pass\n",
    "    \n",
    "    a = getData(symbol,R[0])\n",
    "    for i in range(1,len(R)):        \n",
    "        b = getData(symbol,R[i])\n",
    "        a = pd.concat([a,b])\n",
    "\n",
    "    return a"
   ]
  }
 ],
 "metadata": {
  "kernelspec": {
   "display_name": "Python 3",
   "language": "python",
   "name": "python3"
  },
  "language_info": {
   "codemirror_mode": {
    "name": "ipython",
    "version": 3
   },
   "file_extension": ".py",
   "mimetype": "text/x-python",
   "name": "python",
   "nbconvert_exporter": "python",
   "pygments_lexer": "ipython3",
   "version": "3.8.5"
  }
 },
 "nbformat": 4,
 "nbformat_minor": 4
}

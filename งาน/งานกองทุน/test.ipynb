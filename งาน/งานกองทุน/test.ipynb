{
 "cells": [
  {
   "cell_type": "code",
   "execution_count": 38,
   "metadata": {},
   "outputs": [],
   "source": [
    "x = {'a':1,2:'b',3:'c',4:'c',5:'d'}\n",
    "y = ['A','B','C']"
   ]
  },
  {
   "cell_type": "code",
   "execution_count": 39,
   "metadata": {},
   "outputs": [],
   "source": [
    "x[y[0]] = x.pop('a')"
   ]
  },
  {
   "cell_type": "code",
   "execution_count": 41,
   "metadata": {},
   "outputs": [
    {
     "data": {
      "text/plain": [
       "1"
      ]
     },
     "execution_count": 41,
     "metadata": {},
     "output_type": "execute_result"
    }
   ],
   "source": [
    "x['A']"
   ]
  },
  {
   "cell_type": "code",
   "execution_count": 26,
   "metadata": {},
   "outputs": [],
   "source": [
    "z = {'G':'g'}"
   ]
  },
  {
   "cell_type": "code",
   "execution_count": 27,
   "metadata": {},
   "outputs": [],
   "source": [
    "z['a'] = 1"
   ]
  },
  {
   "cell_type": "code",
   "execution_count": 28,
   "metadata": {},
   "outputs": [],
   "source": [
    "z['b'] = z.pop('a')"
   ]
  },
  {
   "cell_type": "code",
   "execution_count": 30,
   "metadata": {},
   "outputs": [
    {
     "ename": "KeyError",
     "evalue": "'H'",
     "output_type": "error",
     "traceback": [
      "\u001b[0;31m---------------------------------------------------------------------------\u001b[0m",
      "\u001b[0;31mKeyError\u001b[0m                                  Traceback (most recent call last)",
      "\u001b[0;32m<ipython-input-30-d6bdd4a07a64>\u001b[0m in \u001b[0;36m<module>\u001b[0;34m\u001b[0m\n\u001b[0;32m----> 1\u001b[0;31m \u001b[0mz\u001b[0m\u001b[0;34m[\u001b[0m\u001b[0;34m'G'\u001b[0m\u001b[0;34m]\u001b[0m \u001b[0;34m=\u001b[0m \u001b[0mz\u001b[0m\u001b[0;34m.\u001b[0m\u001b[0mpop\u001b[0m\u001b[0;34m(\u001b[0m\u001b[0;34m'H'\u001b[0m\u001b[0;34m)\u001b[0m\u001b[0;34m\u001b[0m\u001b[0;34m\u001b[0m\u001b[0m\n\u001b[0m",
      "\u001b[0;31mKeyError\u001b[0m: 'H'"
     ]
    }
   ],
   "source": [
    "z['G'] = z.pop('H')"
   ]
  },
  {
   "cell_type": "code",
   "execution_count": 32,
   "metadata": {},
   "outputs": [],
   "source": [
    "a = {1:2, 3:4}"
   ]
  },
  {
   "cell_type": "code",
   "execution_count": 3,
   "metadata": {},
   "outputs": [],
   "source": [
    "orig_dict = {'A': 1, 'B' : 5,  'C' : 10, 'D' : 15}  "
   ]
  },
  {
   "cell_type": "code",
   "execution_count": 7,
   "metadata": {},
   "outputs": [
    {
     "ename": "KeyError",
     "evalue": "'E'",
     "output_type": "error",
     "traceback": [
      "\u001b[0;31m---------------------------------------------------------------------------\u001b[0m",
      "\u001b[0;31mKeyError\u001b[0m                                  Traceback (most recent call last)",
      "\u001b[0;32m<ipython-input-7-33a12d98f340>\u001b[0m in \u001b[0;36m<module>\u001b[0;34m\u001b[0m\n\u001b[0;32m----> 1\u001b[0;31m \u001b[0morig_dict\u001b[0m\u001b[0;34m[\u001b[0m\u001b[0;34m'E'\u001b[0m\u001b[0;34m]\u001b[0m \u001b[0;34m=\u001b[0m \u001b[0morig_dict\u001b[0m\u001b[0;34m[\u001b[0m\u001b[0;34m'E'\u001b[0m\u001b[0;34m]\u001b[0m\u001b[0;34m+\u001b[0m\u001b[0;36m1\u001b[0m\u001b[0;34m\u001b[0m\u001b[0;34m\u001b[0m\u001b[0m\n\u001b[0m",
      "\u001b[0;31mKeyError\u001b[0m: 'E'"
     ]
    }
   ],
   "source": [
    "orig_dict['E'] = orig_dict['E']+1"
   ]
  },
  {
   "cell_type": "code",
   "execution_count": 6,
   "metadata": {},
   "outputs": [
    {
     "data": {
      "text/plain": [
       "2"
      ]
     },
     "execution_count": 6,
     "metadata": {},
     "output_type": "execute_result"
    }
   ],
   "source": [
    "orig_dict['A']"
   ]
  },
  {
   "cell_type": "code",
   "execution_count": 1,
   "metadata": {},
   "outputs": [
    {
     "ename": "NameError",
     "evalue": "name 'Tk' is not defined",
     "output_type": "error",
     "traceback": [
      "\u001b[0;31m---------------------------------------------------------------------------\u001b[0m",
      "\u001b[0;31mNameError\u001b[0m                                 Traceback (most recent call last)",
      "\u001b[0;32m<ipython-input-1-98d35c04c0d9>\u001b[0m in \u001b[0;36m<module>\u001b[0;34m\u001b[0m\n\u001b[1;32m    131\u001b[0m         \u001b[0mLabel\u001b[0m\u001b[0;34m(\u001b[0m\u001b[0mwindows\u001b[0m\u001b[0;34m,\u001b[0m \u001b[0mtext\u001b[0m\u001b[0;34m=\u001b[0m\u001b[0;34m\"The Correction code is  {}\"\u001b[0m\u001b[0;34m.\u001b[0m\u001b[0mformat\u001b[0m\u001b[0;34m(\u001b[0m\u001b[0mstr\u001b[0m\u001b[0;34m(\u001b[0m\u001b[0;34m''\u001b[0m\u001b[0;34m.\u001b[0m\u001b[0mjoin\u001b[0m\u001b[0;34m(\u001b[0m\u001b[0mmap\u001b[0m\u001b[0;34m(\u001b[0m\u001b[0mstr\u001b[0m\u001b[0;34m,\u001b[0m \u001b[0mhc\u001b[0m\u001b[0;34m)\u001b[0m\u001b[0;34m)\u001b[0m\u001b[0;34m)\u001b[0m\u001b[0;34m)\u001b[0m\u001b[0;34m,\u001b[0m \u001b[0mfont\u001b[0m\u001b[0;34m=\u001b[0m\u001b[0;34m'none 13'\u001b[0m\u001b[0;34m)\u001b[0m\u001b[0;34m.\u001b[0m\u001b[0mgrid\u001b[0m\u001b[0;34m(\u001b[0m\u001b[0;34m)\u001b[0m\u001b[0;34m\u001b[0m\u001b[0;34m\u001b[0m\u001b[0m\n\u001b[1;32m    132\u001b[0m \u001b[0;34m\u001b[0m\u001b[0m\n\u001b[0;32m--> 133\u001b[0;31m \u001b[0mwindows\u001b[0m \u001b[0;34m=\u001b[0m \u001b[0mTk\u001b[0m\u001b[0;34m(\u001b[0m\u001b[0;34m)\u001b[0m\u001b[0;34m\u001b[0m\u001b[0;34m\u001b[0m\u001b[0m\n\u001b[0m\u001b[1;32m    134\u001b[0m \u001b[0mwindows\u001b[0m\u001b[0;34m.\u001b[0m\u001b[0mgeometry\u001b[0m\u001b[0;34m(\u001b[0m\u001b[0;34m\"360x360\"\u001b[0m\u001b[0;34m)\u001b[0m\u001b[0;34m\u001b[0m\u001b[0;34m\u001b[0m\u001b[0m\n\u001b[1;32m    135\u001b[0m \u001b[0mwindows\u001b[0m\u001b[0;34m.\u001b[0m\u001b[0mtitle\u001b[0m\u001b[0;34m(\u001b[0m\u001b[0;34m\"HAMMING CODE\"\u001b[0m\u001b[0;34m)\u001b[0m\u001b[0;34m\u001b[0m\u001b[0;34m\u001b[0m\u001b[0m\n",
      "\u001b[0;31mNameError\u001b[0m: name 'Tk' is not defined"
     ]
    }
   ],
   "source": [
    "def print_me():\n",
    "    w = simpledialog.askstring(\"HAMMING CODE\",\"Select hamming code:\",)\n",
    "    print(\"Code is \", w)\n",
    "    Label(windows, text=\"Hamming Code is {}\".format(w), font='none 13').grid()\n",
    "\n",
    "    t = len(w)\n",
    "    x = math.log(t+1,2)\n",
    "    x = int(x)\n",
    "    y = t-x\n",
    "    data = list(w)\n",
    "    for n in w:\n",
    "        if '0' in w:\n",
    "            if (t == 7):\n",
    "                if (data == ['0', '0', '0', '0', '0', '0', '0']):\n",
    "                    print(\"this is not hamming code\")\n",
    "                    Label(windows, text=\"this is not hamming code\", font='none 13').grid()\n",
    "                    break\n",
    "                else:\n",
    "                    print(\"code is\", w)\n",
    "                    print(\"Total bit is\", t)\n",
    "                    print(\"Check bit is\", x)\n",
    "                    print(\"Massage bit is\", y)\n",
    "                    Label(windows, text=\"code is {}\".format(w), font='none 13').grid()\n",
    "                    Label(windows, text=\"Total bits is {}\".format(t), font='none 13').grid()\n",
    "                    Label(windows, text=\"Check bit is {}\".format(x), font='none 13').grid()\n",
    "                    Label(windows, text=\"Massage bit is {}\".format(y), font='none 13').grid()\n",
    "                    break\n",
    "            elif (t == 15):\n",
    "                if (data == ['0', '0', '0', '0', '0', '0', '0', '0', '0', '0', '0', '0', '0', '0', '0']):\n",
    "                    print(\"this is not hamming code\")\n",
    "                    Label(windows, text=\"this is not hamming code\", font='none 13').grid()\n",
    "                    break\n",
    "                else:\n",
    "                    print(\"code is\", w)\n",
    "                    print(\"Total bit is\", t)\n",
    "                    print(\"Check bit is\", x)\n",
    "                    print(\"Massage bit is\", y)\n",
    "                    Label(windows, text=\"code is {}\".format(w), font='none 13').grid()\n",
    "                    Label(windows, text=\"Total bits is {}\".format(t), font='none 13').grid()\n",
    "                    Label(windows, text=\"Check bit is {}\".format(x), font='none 13').grid()\n",
    "                    Label(windows, text=\"Massage bit is {}\".format(y), font='none 13').grid()\n",
    "                    break\n",
    "            else:\n",
    "                print(\"error\")\n",
    "                Label(windows, text=\"error\", font='none 13').grid()\n",
    "                break\n",
    "        elif '1' in w:\n",
    "            if (t == 7):\n",
    "                print(\"code is\", w)\n",
    "                print(\"Total bit is\", t)\n",
    "                print(\"Check bit is\", x)\n",
    "                print(\"Massage bit is\", y)\n",
    "                Label(windows, text=\"code is {}\".format(w), font='none 13').grid()\n",
    "                Label(windows, text=\"Total bits is {}\".format(t), font='none 13').grid()\n",
    "                Label(windows, text=\"Check bit is {}\".format(x), font='none 13').grid()\n",
    "                Label(windows, text=\"Massage bit is {}\".format(y), font='none 13').grid()\n",
    "                break\n",
    "            elif (t == 15):\n",
    "                if (data == ['0', '0', '0', '0', '0', '0', '0', '0', '0', '0', '0', '0', '0', '0', '0']):\n",
    "                    print(\"this is not hamming code\")\n",
    "                    Label(windows, text=\"this is not hamming coder\", font='none 13').grid()\n",
    "                    break\n",
    "                else:\n",
    "                    print(\"code is\", w)\n",
    "                    print(\"Total bit is\", t)\n",
    "                    print(\"Check bit is\", x)\n",
    "                    print(\"Massage bit is\", y)\n",
    "                    Label(windows, text=\"code is {}\".format(w), font='none 13').grid()\n",
    "                    Label(windows, text=\"Total bits is {}\".format(t), font='none 13').grid()\n",
    "                    Label(windows, text=\"Check bit is {}\".format(x), font='none 13').grid()\n",
    "                    Label(windows, text=\"Massage bit is {}\".format(y), font='none 13').grid()\n",
    "                    break\n",
    "            else:\n",
    "                print(\"error\")\n",
    "                Label(windows, text=\"error\", font='none 13').grid()\n",
    "                break\n",
    "        elif ('2', '3', '4', '5', '6', '7', '8', '9' in w):\n",
    "            print(\"error\")\n",
    "            Label(windows, text=\"error\", font='none 13').grid()\n",
    "            break\n",
    "\n",
    "    data = list(w)\n",
    "    data.reverse()\n",
    "    c, ch, r, h, parity_list, hc = 0, 0, 0, [], [], []\n",
    "\n",
    "    for k in range(0, len(data)):\n",
    "        p = (2 ** c)\n",
    "        h.append(int(data[k]))\n",
    "        hc.append(data[k])\n",
    "        if (p == (k + 1)):\n",
    "            c = c + 1\n",
    "\n",
    "    for parity in range(0, (len(h))):\n",
    "        ph = (2 ** ch)\n",
    "        if (ph == (parity + 1)):\n",
    "\n",
    "            startIndex = ph - 1\n",
    "            i = startIndex\n",
    "            toXor = []\n",
    "\n",
    "            while (i < len(h)):\n",
    "                block = h[i:i + ph]\n",
    "                toXor.extend(block)\n",
    "                i += 2 * ph\n",
    "\n",
    "            for z in range(1, len(toXor)):\n",
    "                h[startIndex] = h[startIndex] ^ toXor[z]\n",
    "            parity_list.append(h[parity])\n",
    "            ch += 1\n",
    "    parity_list.reverse()\n",
    "    r = sum(int(parity_list) * (2 ** i) for i, parity_list in enumerate(parity_list[::-1]))\n",
    "\n",
    "    if ((r) == 0):\n",
    "        print('There is no error in the code received')\n",
    "        Label(windows, text=\"There is no error in the hamming code received\", font='none 13').grid()\n",
    "\n",
    "    elif ((r) >= len(hc)):\n",
    "        print('Error cannot be found')\n",
    "        Label(windows, text=\"Error cannot be found\", font='none 13').grid()\n",
    "    else:\n",
    "        print('Error is ', r, 'position')\n",
    "        Label(windows, text=\"Error is {} \".format(r), font='none 13').grid()\n",
    "\n",
    "        if (hc[r - 1] == '0'):\n",
    "            hc[r - 1] = '1'\n",
    "\n",
    "        elif (hc[r - 1] == '1'):\n",
    "            hc[r - 1] = '0'\n",
    "        hc.reverse()\n",
    "        print(\"The Correction code is \", str(''.join(map(str, hc))))\n",
    "        Label(windows, text=\"The Correction code is  {}\".format(str(''.join(map(str, hc)))), font='none 13').grid()\n",
    "\n",
    "windows = Tk()\n",
    "windows.geometry(\"360x360\")\n",
    "windows.title(\"HAMMING CODE\")\n",
    "\n",
    "bunt1 = Button(windows,text=\"Select hamming code : \",bg=\"CHOCOLATE\",command=print_me)\n",
    "bunt1.grid()\n",
    "\n",
    "\n",
    "windows.mainloop()"
   ]
  },
  {
   "cell_type": "code",
   "execution_count": null,
   "metadata": {},
   "outputs": [],
   "source": []
  }
 ],
 "metadata": {
  "kernelspec": {
   "display_name": "Python 3",
   "language": "python",
   "name": "python3"
  },
  "language_info": {
   "codemirror_mode": {
    "name": "ipython",
    "version": 3
   },
   "file_extension": ".py",
   "mimetype": "text/x-python",
   "name": "python",
   "nbconvert_exporter": "python",
   "pygments_lexer": "ipython3",
   "version": "3.8.5"
  }
 },
 "nbformat": 4,
 "nbformat_minor": 4
}

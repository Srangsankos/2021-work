{
 "cells": [
  {
   "cell_type": "code",
   "execution_count": 30,
   "metadata": {},
   "outputs": [],
   "source": [
    "import pandas as pd\n",
    "import numpy as np\n",
    "from functools import lru_cache\n",
    "import datetime\n",
    "import dateutil.parser as parser\n",
    "import matplotlib.pyplot as plt\n",
    "import time\n",
    "from time import gmtime, strftime"
   ]
  },
  {
   "cell_type": "code",
   "execution_count": 31,
   "metadata": {},
   "outputs": [],
   "source": [
    "country = ['Euro','US','India']"
   ]
  },
  {
   "cell_type": "code",
   "execution_count": 32,
   "metadata": {},
   "outputs": [],
   "source": [
    "def imd(country):\n",
    "    da = pd.read_excel(r'/Users/oat/Desktop/งาน/data fund/'+country+'/Flow.xlsx')\n",
    "    return da"
   ]
  },
  {
   "cell_type": "code",
   "execution_count": 33,
   "metadata": {},
   "outputs": [],
   "source": [
    "def Flowin(country):\n",
    "    df = imd(country)\n",
    "    df1 = pd.DataFrame(df['Morningstar Category'],columns=df.columns)\n",
    "    for i in range(len(df)):\n",
    "        for j in range(4,len(df.columns)):\n",
    "            if df.iloc[i,j] > 0 and pd.isna(df.iloc[i,j]) == False:\n",
    "                df1.iloc[i,j] = df.iloc[i,j]\n",
    "    return df1"
   ]
  },
  {
   "cell_type": "code",
   "execution_count": 34,
   "metadata": {},
   "outputs": [],
   "source": [
    "def Category_list(country):\n",
    "    x = Flowin(country)\n",
    "    g = x.groupby('Morningstar Category')\n",
    "    cat_list = []\n",
    "    for k,v in g:\n",
    "        cat_list.append(k)\n",
    "    return cat_list"
   ]
  },
  {
   "cell_type": "code",
   "execution_count": 35,
   "metadata": {},
   "outputs": [],
   "source": [
    "def sum_cat(country):\n",
    "    x = Flowin(country)\n",
    "    g = x.groupby('Morningstar Category')\n",
    "    cat_name = Category_list(country)\n",
    "    \n",
    "    df2 = pd.DataFrame(columns=x.columns,index = cat_name)\n",
    "    #df2.reset_index(inplace=True)\n",
    "    for i in range(1,len(df2)):\n",
    "        value = g.get_group(cat_name[i]).sum().to_list()\n",
    "        for j in range(4,len(df2.columns)):\n",
    "            df2.iloc[i,j] = value[j]\n",
    "    \n",
    "    return df2"
   ]
  },
  {
   "cell_type": "code",
   "execution_count": 36,
   "metadata": {},
   "outputs": [],
   "source": [
    "def Change(country):\n",
    "    df2 = sum_cat(country)\n",
    "    df1 = pd.DataFrame(columns=df2.columns,index=df2.index)\n",
    "    for i in range((len(df1))):\n",
    "        for j in range(5,len(df1.columns)):\n",
    "            df1.iloc[i,j] = df2.iloc[i,j-1]-df2.iloc[i,j]\n",
    "    return df1"
   ]
  },
  {
   "cell_type": "code",
   "execution_count": 37,
   "metadata": {},
   "outputs": [],
   "source": [
    "#Change(x).to_excel('/Users/oat/Desktop/งาน/data fund/Japan/Change_list.xlsx')"
   ]
  },
  {
   "cell_type": "code",
   "execution_count": 38,
   "metadata": {},
   "outputs": [],
   "source": [
    "def Accum(country):\n",
    "    df = Change(country)\n",
    "    df1 = pd.DataFrame(columns=df.columns,index = Category_list(country))\n",
    "    \n",
    "    for i in range(len(df1)):\n",
    "        df1.iloc[i,5] = df.iloc[i,5]\n",
    "        for j in range(6,len(df1.columns)):\n",
    "            if df1.columns[j].isocalendar()[1] == df1.columns[j-1].isocalendar()[1]:\n",
    "                df1.iloc[i,j] = df.iloc[i,j]+df1.iloc[i,j-1]\n",
    "            else:\n",
    "                df1.iloc[i,j] = df.iloc[i,j]\n",
    "        \n",
    "    return df1"
   ]
  },
  {
   "cell_type": "code",
   "execution_count": 39,
   "metadata": {},
   "outputs": [],
   "source": [
    "def Accum_month(country):\n",
    "    df = Change(country)\n",
    "    df1 = pd.DataFrame(columns=df.columns,index = Category_list(country))\n",
    "    \n",
    "    for i in range(len(df1)):\n",
    "        df1.iloc[i,5] = df.iloc[i,5]\n",
    "        for j in range(6,len(df1.columns)):\n",
    "            if df1.columns[j].strftime('%b') == df1.columns[j-1].strftime('%b'):\n",
    "                df1.iloc[i,j] = df.iloc[i,j]+df1.iloc[i,j-1]\n",
    "            else:\n",
    "                df1.iloc[i,j] = df.iloc[i,j]\n",
    "        \n",
    "    return df1"
   ]
  },
  {
   "cell_type": "code",
   "execution_count": 40,
   "metadata": {},
   "outputs": [],
   "source": [
    "def toexcel(country):\n",
    "    Accum(country).to_excel('/Users/oat/Desktop/งาน/Accum_week_flow.xlsx')\n",
    "    Accum_month(country).to_excel('/Users/oat/Desktop/งาน/Accum_month_flow.xlsx')\n",
    "    return country"
   ]
  },
  {
   "cell_type": "code",
   "execution_count": null,
   "metadata": {},
   "outputs": [],
   "source": [
    "toexcel('US')"
   ]
  },
  {
   "cell_type": "code",
   "execution_count": 27,
   "metadata": {},
   "outputs": [],
   "source": [
    "Accum(x).to_excel('/Users/oat/Desktop/งาน/data fund/Japan/Accum_week_flow.xlsx')"
   ]
  },
  {
   "cell_type": "code",
   "execution_count": null,
   "metadata": {},
   "outputs": [],
   "source": [
    "Accum_month(x).to_excel('/Users/oat/Desktop/งาน/data fund/Japan/Accum_month_flow.xlsx')"
   ]
  },
  {
   "cell_type": "code",
   "execution_count": null,
   "metadata": {},
   "outputs": [],
   "source": [
    "#sum_cat(x).to_excel('/Users/oat/Desktop/งาน/data fund/Japan/Clean_list.xlsx')"
   ]
  },
  {
   "cell_type": "code",
   "execution_count": null,
   "metadata": {},
   "outputs": [],
   "source": [
    "#x.to_excel('/Users/oat/Desktop/งาน/data fund/Japan/Clean_flow.xlsx')"
   ]
  },
  {
   "cell_type": "code",
   "execution_count": null,
   "metadata": {},
   "outputs": [],
   "source": [
    "testeddate = '4/25/2015'\n",
    "dt_obj = datetime.datetime.strptime(testeddate,'%m/%d/%Y')"
   ]
  },
  {
   "cell_type": "code",
   "execution_count": null,
   "metadata": {},
   "outputs": [],
   "source": [
    "dt_obj"
   ]
  },
  {
   "cell_type": "code",
   "execution_count": null,
   "metadata": {},
   "outputs": [],
   "source": [
    "d = datetime.datetime.strptime(\"04-Jan-11\", \"%d-%b-%y\").strftime('%b')"
   ]
  },
  {
   "cell_type": "code",
   "execution_count": null,
   "metadata": {},
   "outputs": [],
   "source": [
    "d.strftime('%d')"
   ]
  },
  {
   "cell_type": "code",
   "execution_count": null,
   "metadata": {},
   "outputs": [],
   "source": [
    "datetime.datetime.strptime(\"04-Jan-11\", \"%d-%b-%y\").strftime('%b')"
   ]
  },
  {
   "cell_type": "code",
   "execution_count": 29,
   "metadata": {},
   "outputs": [
    {
     "name": "stdout",
     "output_type": "stream",
     "text": [
      "Euro\n",
      "US\n",
      "India\n"
     ]
    }
   ],
   "source": [
    "for i in country:\n",
    "    "
   ]
  },
  {
   "cell_type": "code",
   "execution_count": 29,
   "metadata": {},
   "outputs": [
    {
     "data": {
      "text/plain": [
       "'Jan'"
      ]
     },
     "execution_count": 29,
     "metadata": {},
     "output_type": "execute_result"
    }
   ],
   "source": [
    "x.columns[5].strftime('%b')"
   ]
  },
  {
   "cell_type": "code",
   "execution_count": null,
   "metadata": {},
   "outputs": [],
   "source": [
    "datetime"
   ]
  }
 ],
 "metadata": {
  "kernelspec": {
   "display_name": "Python 3",
   "language": "python",
   "name": "python3"
  },
  "language_info": {
   "codemirror_mode": {
    "name": "ipython",
    "version": 3
   },
   "file_extension": ".py",
   "mimetype": "text/x-python",
   "name": "python",
   "nbconvert_exporter": "python",
   "pygments_lexer": "ipython3",
   "version": "3.8.5"
  }
 },
 "nbformat": 4,
 "nbformat_minor": 4
}
